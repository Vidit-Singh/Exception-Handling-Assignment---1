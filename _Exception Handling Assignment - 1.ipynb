{
 "cells": [
  {
   "cell_type": "markdown",
   "id": "9ee681a4-fd0b-4cce-9f77-02f1e48b7c90",
   "metadata": {},
   "source": [
    "# Q1 What is an Exception in Python? Write the difference between Exceptions and Syntax errors\n",
    "\n"
   ]
  },
  {
   "cell_type": "markdown",
   "id": "908eda4b-2663-4626-b272-351c1b7b01a8",
   "metadata": {},
   "source": [
    "- In Python, an exception is an error that occurs during the execution of a program when something unexpected or erroneous happens. When such a situation occurs, Python raises an exception, which can be caught and handled by the program to prevent it from crashing.\n",
    "\n",
    "- Exceptions can occur due to various reasons, such as invalid user input, division by zero, trying to access a non-existent file, or attempting to perform an operation on an incompatible data type.\n",
    "\n",
    "Here's a brief comparison between exceptions and syntax errors:\n",
    "\n",
    "1)Exceptions:\n",
    "- Exceptions occur during the execution of a program.\n",
    "- They are runtime errors.\n",
    "- Examples include ZeroDivisionError, TypeError, ValueError, FileNotFoundError, etc.\n",
    "- Exceptions can be caught and handled using try-except blocks to prevent the program from crashing.\n",
    "\n",
    "2)Syntax Errors:\n",
    "- Syntax errors occur during the parsing of code, i.e., when the Python interpreter cannot understand the code due to incorrect syntax.\n",
    "- They are detected by the Python interpreter before the program is executed.\n",
    "- Examples include missing colons at the end of statements, mismatched parentheses, incorrect indentation, etc.\n",
    "- Syntax errors must be fixed before running the program, as the interpreter cannot execute code with syntax errors."
   ]
  },
  {
   "cell_type": "code",
   "execution_count": null,
   "id": "60f8512a-a4b4-4e01-b4c1-e627d5908812",
   "metadata": {},
   "outputs": [],
   "source": []
  },
  {
   "cell_type": "markdown",
   "id": "52d9a7c2-27cc-4d07-b0d5-32e838f0b994",
   "metadata": {},
   "source": [
    "# Q2 What happens when an exception is not handled? Explain with an example.\n",
    "\n"
   ]
  },
  {
   "cell_type": "markdown",
   "id": "2e7b3f3f-1b37-4586-a5b4-3a2658fd84d8",
   "metadata": {},
   "source": [
    "- When an exception is not handled in a Python program, it leads to an uncaught exception, which typically results in the program terminating abruptly. \n",
    "\n",
    "- When an exception occurs and is not caught and handled by the program, Python's default behavior is to display a traceback, which includes information about the exception type, the line of code where the exception occurred, and the call stack leading up to the exception. After displaying the traceback, the program stops execution.\n",
    "\n",
    "- Here's an example to illustrate what happens when an exception is not handled :"
   ]
  },
  {
   "cell_type": "code",
   "execution_count": 1,
   "id": "09ad1179-0131-45a7-baf5-d844246336fd",
   "metadata": {},
   "outputs": [
    {
     "ename": "ZeroDivisionError",
     "evalue": "division by zero",
     "output_type": "error",
     "traceback": [
      "\u001b[0;31m---------------------------------------------------------------------------\u001b[0m",
      "\u001b[0;31mZeroDivisionError\u001b[0m                         Traceback (most recent call last)",
      "Cell \u001b[0;32mIn[1], line 6\u001b[0m\n\u001b[1;32m      3\u001b[0m     \u001b[38;5;28;01mreturn\u001b[39;00m result\n\u001b[1;32m      5\u001b[0m \u001b[38;5;66;03m# Example usage of the divide_numbers function without exception handling\u001b[39;00m\n\u001b[0;32m----> 6\u001b[0m result \u001b[38;5;241m=\u001b[39m \u001b[43mdivide_numbers\u001b[49m\u001b[43m(\u001b[49m\u001b[38;5;241;43m10\u001b[39;49m\u001b[43m,\u001b[49m\u001b[43m \u001b[49m\u001b[38;5;241;43m0\u001b[39;49m\u001b[43m)\u001b[49m  \u001b[38;5;66;03m# Attempting to divide by zero\u001b[39;00m\n\u001b[1;32m      7\u001b[0m \u001b[38;5;28mprint\u001b[39m(\u001b[38;5;124m\"\u001b[39m\u001b[38;5;124mResult:\u001b[39m\u001b[38;5;124m\"\u001b[39m, result)\n\u001b[1;32m      9\u001b[0m \u001b[38;5;28mprint\u001b[39m(\u001b[38;5;124m\"\u001b[39m\u001b[38;5;124mProgram continues after exception handling\u001b[39m\u001b[38;5;124m\"\u001b[39m)\n",
      "Cell \u001b[0;32mIn[1], line 2\u001b[0m, in \u001b[0;36mdivide_numbers\u001b[0;34m(a, b)\u001b[0m\n\u001b[1;32m      1\u001b[0m \u001b[38;5;28;01mdef\u001b[39;00m \u001b[38;5;21mdivide_numbers\u001b[39m(a, b):\n\u001b[0;32m----> 2\u001b[0m     result \u001b[38;5;241m=\u001b[39m \u001b[43ma\u001b[49m\u001b[43m \u001b[49m\u001b[38;5;241;43m/\u001b[39;49m\u001b[43m \u001b[49m\u001b[43mb\u001b[49m\n\u001b[1;32m      3\u001b[0m     \u001b[38;5;28;01mreturn\u001b[39;00m result\n",
      "\u001b[0;31mZeroDivisionError\u001b[0m: division by zero"
     ]
    }
   ],
   "source": [
    "def divide_numbers(a, b):\n",
    "    result = a / b\n",
    "    return result\n",
    "\n",
    "# Example usage of the divide_numbers function without exception handling\n",
    "result = divide_numbers(10, 0)  # Attempting to divide by zero\n",
    "print(\"Result:\", result)\n",
    "\n",
    "print(\"Program continues after exception handling\")\n",
    "\n",
    "# Here the program terminates abruplty and throw error."
   ]
  },
  {
   "cell_type": "code",
   "execution_count": null,
   "id": "f668a14e-3727-48f6-bc39-651b1f1fad0f",
   "metadata": {},
   "outputs": [],
   "source": []
  },
  {
   "cell_type": "markdown",
   "id": "ac1e7011-e3de-47d6-91d5-05d5d58fff60",
   "metadata": {},
   "source": [
    "# Q3 Which python statements are used to catch and handle exceptions?  Explain with an example.\n",
    "\n"
   ]
  },
  {
   "cell_type": "markdown",
   "id": "c19f3a30-d73d-400a-b207-7820de22245c",
   "metadata": {},
   "source": [
    "- In Python, the try-except statements are used to catch and handle exceptions. The try block encloses the code where exceptions may occur, and the except block specifies the code to be executed if a specific exception occurs within the try block.\n",
    "\n",
    "- Here's an example demonstrating the usage of try-except statements:\n",
    "\n"
   ]
  },
  {
   "cell_type": "code",
   "execution_count": 2,
   "id": "e6f16208-2ed2-4aa9-b9b7-4cac9132c882",
   "metadata": {},
   "outputs": [
    {
     "name": "stdout",
     "output_type": "stream",
     "text": [
      "Error: division by zero\n",
      "Program continues after exception handling\n"
     ]
    }
   ],
   "source": [
    "def divide_numbers(a, b):\n",
    "    result = a / b\n",
    "    return result\n",
    "\n",
    "# Example usage of the divide_numbers function\n",
    "try:\n",
    "    result = divide_numbers(10, 0)  # Attempting to divide by zero\n",
    "    print(\"Result:\", result)\n",
    "except ZeroDivisionError as e:\n",
    "    print(\"Error:\", e)\n",
    "\n",
    "print(\"Program continues after exception handling\")"
   ]
  },
  {
   "cell_type": "code",
   "execution_count": null,
   "id": "59f658b6-3811-4dd5-b97e-527b581133c3",
   "metadata": {},
   "outputs": [],
   "source": []
  },
  {
   "cell_type": "markdown",
   "id": "5116d8fe-96f0-4aa8-93cc-90bd616221ef",
   "metadata": {},
   "source": [
    "# Q4 Explain with an example:\n",
    "- a. try and else\n",
    "- b. finally\n",
    "- c. raise"
   ]
  },
  {
   "cell_type": "code",
   "execution_count": 3,
   "id": "120fb90b-a518-4f95-850a-e361fc63003a",
   "metadata": {},
   "outputs": [
    {
     "name": "stdout",
     "output_type": "stream",
     "text": [
      "This elseblock will be executed if try block is executed successfully\n"
     ]
    }
   ],
   "source": [
    "# a) try and else\n",
    "#In Python, the try and else statements are used together to handle exceptions in a more granular manner. \n",
    "# While the try block encloses the code where exceptions may occur, the else block specifies the code to be executed if no exceptions occur within the try block.\n",
    "try :\n",
    "    f = open('test.txt','w')\n",
    "    f.write('write into my file')\n",
    "    f.close()\n",
    "except Exception as e :\n",
    "    print(\"this is my except block\",e)\n",
    "else :\n",
    "    f.close()\n",
    "    print('This elseblock will be executed if try block is executed successfully')"
   ]
  },
  {
   "cell_type": "code",
   "execution_count": 4,
   "id": "321024ca-6d99-450f-b2f0-8fff06457af8",
   "metadata": {},
   "outputs": [
    {
     "name": "stdout",
     "output_type": "stream",
     "text": [
      "finally block will execute itself in any situation\n"
     ]
    },
    {
     "ename": "FileNotFoundError",
     "evalue": "[Errno 2] No such file or directory: 'xyz.txt'",
     "output_type": "error",
     "traceback": [
      "\u001b[0;31m---------------------------------------------------------------------------\u001b[0m",
      "\u001b[0;31mFileNotFoundError\u001b[0m                         Traceback (most recent call last)",
      "Cell \u001b[0;32mIn[4], line 4\u001b[0m\n\u001b[1;32m      1\u001b[0m \u001b[38;5;66;03m# b) finally\u001b[39;00m\n\u001b[1;32m      3\u001b[0m \u001b[38;5;28;01mtry\u001b[39;00m : \n\u001b[0;32m----> 4\u001b[0m     f \u001b[38;5;241m=\u001b[39m \u001b[38;5;28;43mopen\u001b[39;49m\u001b[43m(\u001b[49m\u001b[38;5;124;43m'\u001b[39;49m\u001b[38;5;124;43mxyz.txt\u001b[39;49m\u001b[38;5;124;43m'\u001b[39;49m\u001b[43m,\u001b[49m\u001b[38;5;124;43m'\u001b[39;49m\u001b[38;5;124;43mr\u001b[39;49m\u001b[38;5;124;43m'\u001b[39;49m\u001b[43m)\u001b[49m\n\u001b[1;32m      5\u001b[0m     f\u001b[38;5;241m.\u001b[39mwrite(\u001b[38;5;124m'\u001b[39m\u001b[38;5;124mwrite something\u001b[39m\u001b[38;5;124m'\u001b[39m)\n\u001b[1;32m      6\u001b[0m \u001b[38;5;28;01mfinally\u001b[39;00m :\n",
      "File \u001b[0;32m/opt/conda/lib/python3.10/site-packages/IPython/core/interactiveshell.py:282\u001b[0m, in \u001b[0;36m_modified_open\u001b[0;34m(file, *args, **kwargs)\u001b[0m\n\u001b[1;32m    275\u001b[0m \u001b[38;5;28;01mif\u001b[39;00m file \u001b[38;5;129;01min\u001b[39;00m {\u001b[38;5;241m0\u001b[39m, \u001b[38;5;241m1\u001b[39m, \u001b[38;5;241m2\u001b[39m}:\n\u001b[1;32m    276\u001b[0m     \u001b[38;5;28;01mraise\u001b[39;00m \u001b[38;5;167;01mValueError\u001b[39;00m(\n\u001b[1;32m    277\u001b[0m         \u001b[38;5;124mf\u001b[39m\u001b[38;5;124m\"\u001b[39m\u001b[38;5;124mIPython won\u001b[39m\u001b[38;5;124m'\u001b[39m\u001b[38;5;124mt let you open fd=\u001b[39m\u001b[38;5;132;01m{\u001b[39;00mfile\u001b[38;5;132;01m}\u001b[39;00m\u001b[38;5;124m by default \u001b[39m\u001b[38;5;124m\"\u001b[39m\n\u001b[1;32m    278\u001b[0m         \u001b[38;5;124m\"\u001b[39m\u001b[38;5;124mas it is likely to crash IPython. If you know what you are doing, \u001b[39m\u001b[38;5;124m\"\u001b[39m\n\u001b[1;32m    279\u001b[0m         \u001b[38;5;124m\"\u001b[39m\u001b[38;5;124myou can use builtins\u001b[39m\u001b[38;5;124m'\u001b[39m\u001b[38;5;124m open.\u001b[39m\u001b[38;5;124m\"\u001b[39m\n\u001b[1;32m    280\u001b[0m     )\n\u001b[0;32m--> 282\u001b[0m \u001b[38;5;28;01mreturn\u001b[39;00m \u001b[43mio_open\u001b[49m\u001b[43m(\u001b[49m\u001b[43mfile\u001b[49m\u001b[43m,\u001b[49m\u001b[43m \u001b[49m\u001b[38;5;241;43m*\u001b[39;49m\u001b[43margs\u001b[49m\u001b[43m,\u001b[49m\u001b[43m \u001b[49m\u001b[38;5;241;43m*\u001b[39;49m\u001b[38;5;241;43m*\u001b[39;49m\u001b[43mkwargs\u001b[49m\u001b[43m)\u001b[49m\n",
      "\u001b[0;31mFileNotFoundError\u001b[0m: [Errno 2] No such file or directory: 'xyz.txt'"
     ]
    }
   ],
   "source": [
    "# b) finally\n",
    "# In Python, the finally block is used in conjunction with the try block to define a piece of code that will be executed whether an exception occurs or not. \n",
    "# The finally block ensures that certain cleanup or finalization code is always executed, regardless of whether an exception is raised or not.\n",
    "try : \n",
    "    f = open('xyz.txt','r')\n",
    "    f.write('write something')\n",
    "finally :\n",
    "    print('finally block will execute itself in any situation')"
   ]
  },
  {
   "cell_type": "code",
   "execution_count": 5,
   "id": "74434448-08fb-4c7b-8aab-7322103ac2a0",
   "metadata": {},
   "outputs": [
    {
     "name": "stdin",
     "output_type": "stream",
     "text": [
      "Enter a number:  45\n"
     ]
    },
    {
     "name": "stdout",
     "output_type": "stream",
     "text": [
      "Eligible to Vote\n"
     ]
    }
   ],
   "source": [
    "# c) raise\n",
    "#In Python, the raise statement is used to explicitly raise an exception or error. \n",
    "# You can raise built-in exceptions provided by Python, or you can create custom exceptions by subclassing built-in exceptions or the base Exception class.\n",
    "\n",
    "# define Python user-defined exceptions\n",
    "class InvalidAgeException(Exception):\n",
    "    \"Raised when the input value is less than 18\"\n",
    "    pass\n",
    "\n",
    "# you need to guess this number\n",
    "number = 18\n",
    "\n",
    "try:\n",
    "    input_num = int(input(\"Enter a number: \"))\n",
    "    if input_num < number:\n",
    "        raise InvalidAgeException\n",
    "    else:\n",
    "        print(\"Eligible to Vote\")\n",
    "        \n",
    "except InvalidAgeException:\n",
    "    print(\"Exception occurred: Invalid Age\")"
   ]
  },
  {
   "cell_type": "code",
   "execution_count": null,
   "id": "e029f6f7-0d78-4c3d-ad3a-48426ccd5f05",
   "metadata": {},
   "outputs": [],
   "source": []
  },
  {
   "cell_type": "markdown",
   "id": "9718685a-ce53-4f5a-a6cd-5575dd2ae0e6",
   "metadata": {},
   "source": [
    "# Create a custom exception class. Use this class to handle an exception\n",
    "\n"
   ]
  },
  {
   "cell_type": "code",
   "execution_count": 6,
   "id": "121e7fd5-c8d3-491f-bd83-8d5138d7e77d",
   "metadata": {},
   "outputs": [
    {
     "name": "stdout",
     "output_type": "stream",
     "text": [
      "Custom error occurred: Division by zero is not allowed\n"
     ]
    }
   ],
   "source": [
    "class CustomError(Exception):\n",
    "    \"\"\"Custom exception class.\"\"\"\n",
    "    def __init__(self, message):\n",
    "        super().__init__(message)\n",
    "\n",
    "def division(x, y):\n",
    "    \"\"\"Performs division and raises CustomError if denominator is zero.\"\"\"\n",
    "    if y == 0:\n",
    "        raise CustomError(\"Division by zero is not allowed\")\n",
    "    return x / y\n",
    "\n",
    "# Example usage\n",
    "try:\n",
    "    result = division(10, 0)\n",
    "    print(\"Result:\", result)\n",
    "except CustomError as e:\n",
    "    print(\"Custom error occurred:\", e)\n"
   ]
  },
  {
   "cell_type": "code",
   "execution_count": null,
   "id": "3a1f58cf-8262-4d9d-9ac4-8e729d3cf199",
   "metadata": {},
   "outputs": [],
   "source": []
  }
 ],
 "metadata": {
  "kernelspec": {
   "display_name": "Python 3 (ipykernel)",
   "language": "python",
   "name": "python3"
  },
  "language_info": {
   "codemirror_mode": {
    "name": "ipython",
    "version": 3
   },
   "file_extension": ".py",
   "mimetype": "text/x-python",
   "name": "python",
   "nbconvert_exporter": "python",
   "pygments_lexer": "ipython3",
   "version": "3.10.8"
  }
 },
 "nbformat": 4,
 "nbformat_minor": 5
}
